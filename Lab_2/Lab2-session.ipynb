{
 "cells": [
  {
   "cell_type": "markdown",
   "id": "24064713",
   "metadata": {},
   "source": [
    "# Lab 2\n",
    "\n",
    "## Regression Analysis\n",
    "\n",
    "### Introduction\n",
    "\n",
    "This lab introduces you to the Regression problems and how to apply the solutions. Furthermore, you will learn how to prepare the dataset into a machine learning model.\n",
    "\n",
    "### Objectives\n",
    "\n",
    "- Data exploration\n",
    "- Data preparation\n",
    "- Implementing Linear Regression algorithm\n",
    "- Encoding Categorical Data (Converting categorical data to numbers)\n",
    "- Data Scaling\n",
    "- Implementing Polynomial Regression algorithm\n",
    "- Multiple linear regression\n",
    "\n",
    "\n",
    "### Regression\n",
    "1. What is regression?\n",
    "2. Why we need to explore the Data for Regression, specifically?\n",
    "3. What methods do we usually use for data preparation?\n",
    "3. When Do We Need Regression?\n",
    "\n",
    "\n",
    "### Linear Regression\n",
    "1. What is linear regression?\n",
    "</span>\n",
    "\n",
    "####  In this regression task we will predict the percentage of marks that a student is expected to score based upon the number of hours they studied. This is a simple linear regression task as it involves just one explanatory variables."
   ]
  },
  {
   "cell_type": "markdown",
   "id": "0709f23e",
   "metadata": {},
   "source": [
    "#### Import the libraries\n"
   ]
  },
  {
   "cell_type": "code",
   "execution_count": 68,
   "id": "c963974d",
   "metadata": {
    "ExecuteTime": {
     "end_time": "2024-02-13T19:58:03.662304800Z",
     "start_time": "2024-02-13T19:58:03.414793600Z"
    }
   },
   "outputs": [],
   "source": [
    "import pandas as pd\n",
    "import seaborn as sbs\n",
    "import matplotlib.pyplot as plt\n",
    "import numpy as np\n",
    "# %matplotlib inline"
   ]
  },
  {
   "cell_type": "markdown",
   "id": "156980ca",
   "metadata": {},
   "source": [
    "#### Load data and explore the data"
   ]
  },
  {
   "cell_type": "code",
   "execution_count": 69,
   "id": "08a7452a",
   "metadata": {
    "ExecuteTime": {
     "end_time": "2024-02-13T19:58:03.733868Z",
     "start_time": "2024-02-13T19:58:03.665308200Z"
    }
   },
   "outputs": [
    {
     "data": {
      "text/plain": "(25, 2)"
     },
     "execution_count": 69,
     "metadata": {},
     "output_type": "execute_result"
    }
   ],
   "source": [
    "dataset = pd.read_csv('res/student_scores.csv')\n",
    "dataset.shape"
   ]
  },
  {
   "cell_type": "code",
   "execution_count": 70,
   "id": "e7b32131",
   "metadata": {
    "ExecuteTime": {
     "end_time": "2024-02-13T19:58:03.807174300Z",
     "start_time": "2024-02-13T19:58:03.708004900Z"
    }
   },
   "outputs": [
    {
     "data": {
      "text/plain": "   Hours  Scores\n0    2.5      21\n1    5.1      47\n2    3.2      27\n3    8.5      75\n4    3.5      30",
      "text/html": "<div>\n<style scoped>\n    .dataframe tbody tr th:only-of-type {\n        vertical-align: middle;\n    }\n\n    .dataframe tbody tr th {\n        vertical-align: top;\n    }\n\n    .dataframe thead th {\n        text-align: right;\n    }\n</style>\n<table border=\"1\" class=\"dataframe\">\n  <thead>\n    <tr style=\"text-align: right;\">\n      <th></th>\n      <th>Hours</th>\n      <th>Scores</th>\n    </tr>\n  </thead>\n  <tbody>\n    <tr>\n      <th>0</th>\n      <td>2.5</td>\n      <td>21</td>\n    </tr>\n    <tr>\n      <th>1</th>\n      <td>5.1</td>\n      <td>47</td>\n    </tr>\n    <tr>\n      <th>2</th>\n      <td>3.2</td>\n      <td>27</td>\n    </tr>\n    <tr>\n      <th>3</th>\n      <td>8.5</td>\n      <td>75</td>\n    </tr>\n    <tr>\n      <th>4</th>\n      <td>3.5</td>\n      <td>30</td>\n    </tr>\n  </tbody>\n</table>\n</div>"
     },
     "execution_count": 70,
     "metadata": {},
     "output_type": "execute_result"
    }
   ],
   "source": [
    "dataset.head(5)"
   ]
  },
  {
   "cell_type": "code",
   "execution_count": 71,
   "id": "5450b215",
   "metadata": {
    "ExecuteTime": {
     "end_time": "2024-02-13T19:58:03.836909700Z",
     "start_time": "2024-02-13T19:58:03.786645300Z"
    }
   },
   "outputs": [
    {
     "data": {
      "text/plain": "           Hours     Scores\ncount  25.000000  25.000000\nmean    5.012000  51.480000\nstd     2.525094  25.286887\nmin     1.100000  17.000000\n25%     2.700000  30.000000\n50%     4.800000  47.000000\n75%     7.400000  75.000000\nmax     9.200000  95.000000",
      "text/html": "<div>\n<style scoped>\n    .dataframe tbody tr th:only-of-type {\n        vertical-align: middle;\n    }\n\n    .dataframe tbody tr th {\n        vertical-align: top;\n    }\n\n    .dataframe thead th {\n        text-align: right;\n    }\n</style>\n<table border=\"1\" class=\"dataframe\">\n  <thead>\n    <tr style=\"text-align: right;\">\n      <th></th>\n      <th>Hours</th>\n      <th>Scores</th>\n    </tr>\n  </thead>\n  <tbody>\n    <tr>\n      <th>count</th>\n      <td>25.000000</td>\n      <td>25.000000</td>\n    </tr>\n    <tr>\n      <th>mean</th>\n      <td>5.012000</td>\n      <td>51.480000</td>\n    </tr>\n    <tr>\n      <th>std</th>\n      <td>2.525094</td>\n      <td>25.286887</td>\n    </tr>\n    <tr>\n      <th>min</th>\n      <td>1.100000</td>\n      <td>17.000000</td>\n    </tr>\n    <tr>\n      <th>25%</th>\n      <td>2.700000</td>\n      <td>30.000000</td>\n    </tr>\n    <tr>\n      <th>50%</th>\n      <td>4.800000</td>\n      <td>47.000000</td>\n    </tr>\n    <tr>\n      <th>75%</th>\n      <td>7.400000</td>\n      <td>75.000000</td>\n    </tr>\n    <tr>\n      <th>max</th>\n      <td>9.200000</td>\n      <td>95.000000</td>\n    </tr>\n  </tbody>\n</table>\n</div>"
     },
     "execution_count": 71,
     "metadata": {},
     "output_type": "execute_result"
    }
   ],
   "source": [
    "dataset.describe()"
   ]
  },
  {
   "cell_type": "markdown",
   "id": "0ac4aae5",
   "metadata": {},
   "source": [
    "##### Data Plotting:\n",
    "Plot the data points on 2-D graph to eyeball our dataset and see if we can manually find any relationship between the data:"
   ]
  },
  {
   "cell_type": "code",
   "outputs": [
    {
     "data": {
      "text/plain": "<Figure size 640x480 with 1 Axes>",
      "image/png": "[encoded data removed]"
     },
     "metadata": {},
     "output_type": "display_data"
    }
   ],
   "source": [
    "fig, ax = plt.subplots()\n",
    "ax.scatter(dataset['Hours'], dataset['Scores'])\n",
    "ax.set(title='Hours vs Percentage', xlabel='Hours', ylabel='Scores')\n",
    "plt.style.use('ggplot')\n",
    "plt.show()\n"
   ],
   "metadata": {
    "collapsed": false,
    "ExecuteTime": {
     "end_time": "2024-02-13T19:58:04.374990200Z",
     "start_time": "2024-02-13T19:58:03.859551600Z"
    }
   },
   "id": "608dc1ac33567bd8",
   "execution_count": 72
  },
  {
   "cell_type": "markdown",
   "id": "e7a53558",
   "metadata": {},
   "source": [
    "#### Splitting data into train / test sets"
   ]
  },
  {
   "cell_type": "code",
   "execution_count": 73,
   "id": "0b83dbe4",
   "metadata": {
    "ExecuteTime": {
     "end_time": "2024-02-13T19:58:04.377528200Z",
     "start_time": "2024-02-13T19:58:04.058847800Z"
    }
   },
   "outputs": [],
   "source": [
    "from sklearn.model_selection import train_test_split\n",
    "\n",
    "X = dataset.iloc[:, :-1].values\n",
    "y = dataset.iloc[:, 1].values\n",
    "\n",
    "# Write one line below to split the dataset into train / test sets\n",
    "X_train, X_test, y_train, y_test = train_test_split(X, y, test_size=0.2, random_state=200)\n"
   ]
  },
  {
   "cell_type": "markdown",
   "id": "cc7ae635",
   "metadata": {},
   "source": [
    "#### Build Linear Regression Model"
   ]
  },
  {
   "cell_type": "code",
   "outputs": [
    {
     "name": "stdout",
     "output_type": "stream",
     "text": [
      "3.172013828934695\n",
      "[9.72144685]\n"
     ]
    }
   ],
   "source": [
    "from sklearn.linear_model import LinearRegression\n",
    "regressor = LinearRegression()\n",
    "\n",
    "regressor.fit(X_train, y_train)\n",
    "\n",
    "print(regressor.intercept_)\n",
    "print(regressor.coef_)"
   ],
   "metadata": {
    "collapsed": false,
    "ExecuteTime": {
     "end_time": "2024-02-13T19:58:04.485948Z",
     "start_time": "2024-02-13T19:58:04.120384700Z"
    }
   },
   "id": "3076b86a6624842c",
   "execution_count": 74
  },
  {
   "cell_type": "code",
   "execution_count": 75,
   "id": "8afdfa0d",
   "metadata": {
    "scrolled": true,
    "ExecuteTime": {
     "end_time": "2024-02-13T19:58:04.555946700Z",
     "start_time": "2024-02-13T19:58:04.456721600Z"
    }
   },
   "outputs": [
    {
     "name": "stdout",
     "output_type": "stream",
     "text": [
      "3.172013828934695\n",
      "[9.72144685]\n"
     ]
    }
   ],
   "source": [
    "from sklearn.linear_model import LinearRegression\n",
    "regressor = LinearRegression()\n",
    "\n",
    "# Train the model on the X_train and y_train, write one line below\n",
    "regressor.fit(X_train, y_train)\n",
    "\n",
    "\n",
    "print(regressor.intercept_)\n",
    "print(regressor.coef_)"
   ]
  },
  {
   "cell_type": "markdown",
   "id": "6c0300d6",
   "metadata": {},
   "source": [
    "#### Evaluate the performance of the linear regression model on test dataset"
   ]
  },
  {
   "cell_type": "code",
   "execution_count": 76,
   "id": "02e7c8e3",
   "metadata": {
    "ExecuteTime": {
     "end_time": "2024-02-13T19:58:04.680983Z",
     "start_time": "2024-02-13T19:58:04.532261600Z"
    }
   },
   "outputs": [
    {
     "data": {
      "text/plain": "   Actual  Predicted\n0      69  75.110721\n1      35  40.113512\n2      27  34.280644\n3      24  21.642763\n4      76  70.249997",
      "text/html": "<div>\n<style scoped>\n    .dataframe tbody tr th:only-of-type {\n        vertical-align: middle;\n    }\n\n    .dataframe tbody tr th {\n        vertical-align: top;\n    }\n\n    .dataframe thead th {\n        text-align: right;\n    }\n</style>\n<table border=\"1\" class=\"dataframe\">\n  <thead>\n    <tr style=\"text-align: right;\">\n      <th></th>\n      <th>Actual</th>\n      <th>Predicted</th>\n    </tr>\n  </thead>\n  <tbody>\n    <tr>\n      <th>0</th>\n      <td>69</td>\n      <td>75.110721</td>\n    </tr>\n    <tr>\n      <th>1</th>\n      <td>35</td>\n      <td>40.113512</td>\n    </tr>\n    <tr>\n      <th>2</th>\n      <td>27</td>\n      <td>34.280644</td>\n    </tr>\n    <tr>\n      <th>3</th>\n      <td>24</td>\n      <td>21.642763</td>\n    </tr>\n    <tr>\n      <th>4</th>\n      <td>76</td>\n      <td>70.249997</td>\n    </tr>\n  </tbody>\n</table>\n</div>"
     },
     "execution_count": 76,
     "metadata": {},
     "output_type": "execute_result"
    }
   ],
   "source": [
    "# let's get predictions of the X_test by our model, assign the result into y_pre value, write one line below\n",
    "y_pred = regressor.predict(X_test)\n",
    "\n",
    "df = pd.DataFrame({'Actual': y_test, 'Predicted': y_pred})\n",
    "df"
   ]
  },
  {
   "cell_type": "markdown",
   "id": "43d21e20",
   "metadata": {},
   "source": [
    "Task: Measure the performance of the model using the root mean squared error, mean absolute error and coefficient of determination $R^2$.\n",
    "\n",
    "Recall the formulas of the MAE:\n",
    "\n",
    "![MAE formula](res/mae_formula.png \"MAE formula\")\n",
    "\n",
    "MSE:\n",
    "\n",
    "![MSE formula](res/mse_formula.png \"MSE formula\")\n",
    "\n",
    "MSE:\n",
    "\n",
    "![RMSE formula](res/rmse.png \"RMSE formula\")\n",
    "\n",
    "\n",
    "Q: What RMSE, MSE and R-squared tell us?"
   ]
  },
  {
   "cell_type": "code",
   "outputs": [
    {
     "name": "stdout",
     "output_type": "stream",
     "text": [
      "Mean absolute Error: 5.322423238185203\n",
      "Mean Squared Error: 31.023156530347553\n",
      "Root Mean Squared Error: 5.569843492446404\n"
     ]
    }
   ],
   "source": [
    "from sklearn import metrics\n",
    "\n",
    "print('Mean absolute Error:', metrics.mean_absolute_error(y_test, y_pred))\n",
    "print('Mean Squared Error:', metrics.mean_squared_error(y_test, y_pred))\n",
    "print('Root Mean Squared Error:', metrics.root_mean_squared_error(y_test, y_pred))\n"
   ],
   "metadata": {
    "collapsed": false,
    "ExecuteTime": {
     "end_time": "2024-02-13T19:58:04.728171100Z",
     "start_time": "2024-02-13T19:58:04.664689500Z"
    }
   },
   "id": "bfcce0a388c5e01e",
   "execution_count": 77
  },
  {
   "cell_type": "code",
   "outputs": [],
   "source": [],
   "metadata": {
    "collapsed": false,
    "ExecuteTime": {
     "end_time": "2024-02-13T19:58:04.804514500Z",
     "start_time": "2024-02-13T19:58:04.712948200Z"
    }
   },
   "id": "4f14a7d95cfbe8d9",
   "execution_count": 77
  },
  {
   "cell_type": "markdown",
   "id": "99e7cbd8",
   "metadata": {
    "collapsed": false,
    "pycharm": {
     "name": "#%% md\n"
    }
   },
   "source": [
    "## Encoding Categorical Data (Converting categorical data to numbers)\n",
    "\n",
    "There are two common approaches for converting ordinal and categorical variables to numerical values. They are:\n",
    "\n",
    "- Ordinal Encoding\n",
    "- One-Hot Encoding"
   ]
  },
  {
   "cell_type": "markdown",
   "id": "350806e3",
   "metadata": {
    "collapsed": false,
    "pycharm": {
     "name": "#%% md\n"
    }
   },
   "source": [
    "### Ordinal Encoding\n",
    "\n",
    "In ordinal encoding, each unique category value is assigned an integer value.\n",
    "\n",
    "For example, “red” is 1, “green” is 2, and “blue” is 3.\n",
    "\n",
    "This is called an ordinal encoding or an integer encoding and is easily reversible. Often, integer values starting at zero are used."
   ]
  },
  {
   "cell_type": "code",
   "outputs": [
    {
     "name": "stdout",
     "output_type": "stream",
     "text": [
      "[['red']\n",
      " ['green']\n",
      " ['blue']\n",
      " ['aellow']]\n"
     ]
    }
   ],
   "source": [
    "import numpy as np\n",
    "data = np.asarray([['red'], ['green'], ['blue'], ['aellow']])\n",
    "print(data)"
   ],
   "metadata": {
    "collapsed": false,
    "ExecuteTime": {
     "end_time": "2024-02-13T22:51:18.162302300Z",
     "start_time": "2024-02-13T22:51:18.107398300Z"
    }
   },
   "id": "ef70430b3acd1071",
   "execution_count": 3
  },
  {
   "cell_type": "markdown",
   "id": "678d4414",
   "metadata": {
    "collapsed": false,
    "pycharm": {
     "name": "#%% md\n"
    }
   },
   "source": [
    "Let's convert the above categorical data into numerical via Ordinal Encoder method:"
   ]
  },
  {
   "cell_type": "code",
   "outputs": [
    {
     "name": "stdout",
     "output_type": "stream",
     "text": [
      "[[3.]\n",
      " [2.]\n",
      " [1.]\n",
      " [0.]]\n"
     ]
    }
   ],
   "source": [
    "from sklearn.preprocessing import OrdinalEncoder\n",
    "encoder = OrdinalEncoder()\n",
    "\n",
    "result = encoder.fit_transform(data)\n",
    "print(result)"
   ],
   "metadata": {
    "collapsed": false,
    "ExecuteTime": {
     "end_time": "2024-02-13T19:58:04.996020600Z",
     "start_time": "2024-02-13T19:58:04.879925900Z"
    }
   },
   "id": "421955e61c9d46bd",
   "execution_count": 79
  },
  {
   "cell_type": "markdown",
   "id": "b0ddcbb7",
   "metadata": {
    "collapsed": false,
    "pycharm": {
     "name": "#%% md\n"
    }
   },
   "source": [
    "1. When should we use OrdinalEncoding?\n",
    "\n",
    "2. When should not we use OrdinalEncoding? What are the disadvantages of it?"
   ]
  },
  {
   "cell_type": "markdown",
   "id": "d58dc538",
   "metadata": {
    "collapsed": false,
    "pycharm": {
     "name": "#%% md\n"
    }
   },
   "source": [
    "### One-Hot Encoding\n",
    "\n",
    "\" Each bit represents a possible category. If the variable cannot belong to multiple categories at once, then only one bit in the group can be “on.” This is called one-hot encoding … \" — Page 78, Feature Engineering for Machine Learning, 2018.\n",
    "\n",
    "We can demonstrate the usage of the OneHotEncoder on the color categories. First the categories are sorted, in this case alphabetically because they are strings, then binary variables are created for each category in turn. This means blue will be represented as [1, 0, 0] with a “1” in for the first binary variable, then green, then finally red."
   ]
  },
  {
   "cell_type": "markdown",
   "id": "b69eaafb",
   "metadata": {},
   "source": [
    "Let's convert the above categorical data into numerical via One-Hot Encoder method:"
   ]
  },
  {
   "cell_type": "code",
   "outputs": [
    {
     "name": "stdout",
     "output_type": "stream",
     "text": [
      "[[0. 0. 0. 1.]\n",
      " [0. 0. 1. 0.]\n",
      " [0. 1. 0. 0.]\n",
      " [1. 0. 0. 0.]]\n"
     ]
    }
   ],
   "source": [
    "from sklearn.preprocessing import OneHotEncoder\n",
    "\n",
    "encoder = OneHotEncoder(sparse_output=False)\n",
    "\n",
    "onehot = encoder.fit_transform(data)\n",
    "\n",
    "print(onehot)"
   ],
   "metadata": {
    "collapsed": false,
    "ExecuteTime": {
     "end_time": "2024-02-13T22:51:21.426926400Z",
     "start_time": "2024-02-13T22:51:21.412395400Z"
    }
   },
   "id": "de0ab888e524405d",
   "execution_count": 4
  },
  {
   "cell_type": "markdown",
   "id": "a662e961",
   "metadata": {},
   "source": [
    "## Data Scaling\n",
    "\n",
    "Machine learning algorithm just sees number — if there is a vast difference in the range say few ranging in thousands and few ranging in the tens, and it makes the underlying assumption that higher ranging numbers have superiority of some sort. So these more significant number starts playing a more decisive role while training the model.\n",
    "\n",
    "The machine learning algorithm works on numbers and does not know what that number represents. A weight of 10 grams and a price of 10 dollars represents completely two different things — which is a no brainer for humans, but for a model as a feature, it treats both as same.\n",
    "\n",
    "Suppose we have two features of weight and price, as in the below table. The “Weight” cannot have a meaningful comparison with the “Price.” So the assumption algorithm makes that since “Weight” > “Price,” thus “Weight,” is more important than “Price.”\n",
    "\n",
    "![Fruit weight price example](res/fruit_weight_price.png \"Fruit example\")\n",
    "\n",
    "So these more significant number starts playing a more decisive role while training the model. Thus feature scaling is needed to bring every feature in the same footing without any upfront importance. Interestingly, if we convert the weight to “Kg,” then “Price” becomes dominant.\n",
    "\n",
    "Another reason why feature scaling is applied is that few algorithms like Neural network gradient descent converge much faster with feature scaling than without it.\n",
    "\n",
    "![Converge example](res/converge_example.png \"Converge example\")"
   ]
  },
  {
   "cell_type": "markdown",
   "id": "c742da3e",
   "metadata": {},
   "source": [
    "### Data scaling technique: Data normalization\n",
    "Normalization is a rescaling of the data from the original range so that all values are within the range of 0 and 1 (or other ranges).\n",
    "\n",
    "Normalization requires that you know or are able to accurately estimate the minimum and maximum observable values. You may be able to estimate these values from your available data.\n",
    "\n",
    "The formula for normalization:\n",
    "\n",
    "$x^{(i)}_{\\operatorname{normalized}} =  \\frac{x^{(i)} - min(X)}{max(X) - min(X)}$, where $X = [x_0, x_1, ... x_i, ... x_n]$"
   ]
  },
  {
   "cell_type": "code",
   "execution_count": 81,
   "id": "af20fb2b",
   "metadata": {
    "ExecuteTime": {
     "end_time": "2024-02-13T19:58:05.161155600Z",
     "start_time": "2024-02-13T19:58:05.070452200Z"
    }
   },
   "outputs": [
    {
     "name": "stdout",
     "output_type": "stream",
     "text": [
      "        WEIGHT  PRICE\n",
      "Orange      15      1\n",
      "Apple       18      3\n",
      "Banana      12      2\n",
      "Grape       10      5\n"
     ]
    }
   ],
   "source": [
    "\n",
    "import pandas as pd\n",
    "import numpy as np\n",
    "import matplotlib.pyplot as plt\n",
    "%matplotlib inline\n",
    "df = pd.DataFrame({'WEIGHT': [15, 18, 12,10],\n",
    "                   'PRICE': [1,3,2,5]},\n",
    "                   index = ['Orange','Apple','Banana','Grape'])\n",
    "print(df)"
   ]
  },
  {
   "cell_type": "markdown",
   "id": "5df87b2f9fee1acd",
   "metadata": {},
   "source": [
    "Let's apply the min-max scaler, or normalization to the above dataset"
   ]
  },
  {
   "cell_type": "code",
   "execution_count": 82,
   "id": "8e7070a8",
   "metadata": {
    "ExecuteTime": {
     "end_time": "2024-02-13T19:58:05.264491400Z",
     "start_time": "2024-02-13T19:58:05.143955300Z"
    }
   },
   "outputs": [
    {
     "name": "stdout",
     "output_type": "stream",
     "text": [
      "        WEIGHT  PRICE\n",
      "Orange   0.625   0.00\n",
      "Apple    1.000   0.50\n",
      "Banana   0.250   0.25\n",
      "Grape    0.000   1.00\n"
     ]
    }
   ],
   "source": [
    "from sklearn.preprocessing import MinMaxScaler\n",
    "scaler = MinMaxScaler()\n",
    "\n",
    "# todo: apply min-max scaler to the df dataset, write one line code below\n",
    "min_max_scaled_data = scaler.fit_transform(df)\n",
    "\n",
    "df1 = pd.DataFrame(min_max_scaled_data, columns=['WEIGHT','PRICE'], index = ['Orange','Apple','Banana','Grape'])\n",
    "print(df1)"
   ]
  },
  {
   "cell_type": "markdown",
   "id": "07432b6c",
   "metadata": {},
   "source": [
    "### Data scaling technique: Data Standardization\n",
    "\n",
    "Standardizing a dataset involves rescaling the distribution of values so that the mean of observed values is 0 and the standard deviation is 1. It is sometimes referred to as “whitening.”\n",
    "\n",
    "This can be thought of as subtracting the mean value or centering the data.\n",
    "\n",
    "Like normalization, standardization can be useful, and even required in some machine learning algorithms when your data has input values with differing scales.\n",
    "\n",
    "Standardization assumes that your observations fit a Gaussian distribution (bell curve) with a well behaved mean and standard deviation. You can still standardize your data if this expectation is not met, but you may not get reliable results.\n",
    "\n",
    "Standardization requires that you know or are able to accurately estimate the mean and standard deviation of observable values. You may be able to estimate these values from your training data.\n",
    "\n",
    "The formula is:\n",
    "\n",
    "$y = \\frac{(x - mean)} {standard\\_deviation}$\n",
    "\n",
    "where:\n",
    "- $mean = \\frac{sum(x)}{count(x)}$\n",
    "- $standard\\_deviation = \\sqrt{\\frac{\\sum (x - mean)^2}{count(x)}}$"
   ]
  },
  {
   "cell_type": "code",
   "execution_count": 83,
   "id": "fdec5dd7",
   "metadata": {
    "ExecuteTime": {
     "end_time": "2024-02-13T19:58:05.331031700Z",
     "start_time": "2024-02-13T19:58:05.228385800Z"
    }
   },
   "outputs": [
    {
     "name": "stdout",
     "output_type": "stream",
     "text": [
      "        WEIGHT  PRICE\n",
      "Orange      15      1\n",
      "Apple       18      3\n",
      "Banana      12      2\n",
      "Grape       10      5\n"
     ]
    }
   ],
   "source": [
    "import pandas as pd\n",
    "import numpy as np\n",
    "import matplotlib.pyplot as plt\n",
    "%matplotlib inline\n",
    "df = pd.DataFrame({'WEIGHT': [15, 18, 12,10],\n",
    "                   'PRICE': [1,3,2,5]},\n",
    "                   index = ['Orange','Apple','Banana','Grape'])\n",
    "print(df)"
   ]
  },
  {
   "cell_type": "markdown",
   "id": "ab48721196caa78f",
   "metadata": {},
   "source": [
    "Let's apply the standard scaler to the above dataset"
   ]
  },
  {
   "cell_type": "code",
   "execution_count": 84,
   "id": "d303a95b",
   "metadata": {
    "ExecuteTime": {
     "end_time": "2024-02-13T19:58:05.434154900Z",
     "start_time": "2024-02-13T19:58:05.305949600Z"
    }
   },
   "outputs": [
    {
     "name": "stdout",
     "output_type": "stream",
     "text": [
      "          WEIGHT     PRICE\n",
      "Orange  0.412393 -1.183216\n",
      "Apple   1.402136  0.169031\n",
      "Banana -0.577350 -0.507093\n",
      "Grape  -1.237179  1.521278\n"
     ]
    }
   ],
   "source": [
    "from sklearn.preprocessing import StandardScaler\n",
    "scaler = StandardScaler()\n",
    "# todo: apply standard scaler to the df dataset, write one line code below\n",
    "scaled_df = scaler.fit_transform(df)\n",
    "\n",
    "df2 = pd.DataFrame(scaled_df,\n",
    "                   columns=['WEIGHT','PRICE'],\n",
    "                   index = ['Orange','Apple','Banana','Grape'])\n",
    "print(df2)"
   ]
  },
  {
   "cell_type": "markdown",
   "id": "876f886b",
   "metadata": {},
   "source": [
    "Data standardization vs normalization, which one to use?\n",
    "\n",
    "\n",
    "![Feature scaling, standartization vs Max min](res/f_scaling_stand_vs_max_min.png \"Feature scaling, standartization vs Max min\")\n",
    "\n",
    "![Feature scaling](res/f_scaling_c_age.png \"Feature scaling\")\n",
    "\n",
    "![Feature scaling](res/f_scaling_c_salary.png \"Feature scaling\")"
   ]
  },
  {
   "cell_type": "markdown",
   "id": "503ed4e4",
   "metadata": {},
   "source": [
    "### Polynomial Regression\n",
    "Polynomial Regression, is simply a transformation for the explanatory variables to higher polynomial orders with interactive variables.\n",
    "1. Why do we need it?\n",
    "2. Which order of the polynomial should we choose? \n",
    "2. Should we always pick the most complex model? \n",
    "\n",
    "#### We will create a synthetic dataset by adding some random gaussian noise to a cosinusoidal function.\n",
    "#### Import libraries"
   ]
  },
  {
   "cell_type": "code",
   "execution_count": 85,
   "id": "9fe38453",
   "metadata": {
    "ExecuteTime": {
     "end_time": "2024-02-13T19:58:05.489917400Z",
     "start_time": "2024-02-13T19:58:05.432839400Z"
    }
   },
   "outputs": [],
   "source": [
    "import numpy as np\n",
    "import matplotlib.pyplot as plt\n",
    "from sklearn.pipeline import Pipeline\n",
    "from sklearn.preprocessing import PolynomialFeatures\n",
    "from sklearn.linear_model import LinearRegression\n",
    "from sklearn.model_selection import cross_val_score"
   ]
  },
  {
   "cell_type": "markdown",
   "id": "96231930",
   "metadata": {},
   "source": [
    "#### Create sinusoidal function"
   ]
  },
  {
   "cell_type": "code",
   "execution_count": 86,
   "id": "f5ce08bd",
   "metadata": {
    "ExecuteTime": {
     "end_time": "2024-02-13T19:58:05.524858300Z",
     "start_time": "2024-02-13T19:58:05.478403700Z"
    }
   },
   "outputs": [],
   "source": [
    "def true_fun(X):\n",
    "    return np.cos(1.5 * np.pi * X)"
   ]
  },
  {
   "cell_type": "markdown",
   "id": "ee04f037",
   "metadata": {},
   "source": [
    "#### Create a synthetic dataset by adding some random gaussian noise to a cosinusoidal function"
   ]
  },
  {
   "cell_type": "code",
   "execution_count": 87,
   "id": "bfe3ca40",
   "metadata": {
    "ExecuteTime": {
     "end_time": "2024-02-13T19:58:05.578542100Z",
     "start_time": "2024-02-13T19:58:05.530468800Z"
    }
   },
   "outputs": [],
   "source": [
    "np.random.seed(0)\n",
    "\n",
    "n_samples = 30\n",
    "degrees = [1, 4, 15]\n",
    "\n",
    "X = np.sort(np.random.rand(n_samples))\n",
    "y = true_fun(X) + np.random.randn(n_samples) * 0.1"
   ]
  },
  {
   "cell_type": "markdown",
   "id": "02ed5f34",
   "metadata": {},
   "source": [
    "#### We will build three polynomial models with degrees [1, 4, 15] and observe the effect of increasing the degree of complixity of the model on how well it suits the data.\n",
    "\n",
    "\n",
    "Task: Write a pipeline of PolynomialFeatures transformation then, LinearRegression mode to be applied on X & y.\n",
    "Then get the cross validation scores with the appropriate scoring argument with k = 10.\n",
    "\n",
    "Q: What's your observation?"
   ]
  },
  {
   "cell_type": "code",
   "outputs": [
    {
     "name": "stdout",
     "output_type": "stream",
     "text": [
      "[[0.0202184 ]\n",
      " [0.07103606]\n",
      " [0.0871293 ]\n",
      " [0.11827443]\n",
      " [0.14335329]\n",
      " [0.38344152]\n",
      " [0.41466194]\n",
      " [0.4236548 ]\n",
      " [0.43758721]\n",
      " [0.46147936]\n",
      " [0.52184832]\n",
      " [0.52889492]\n",
      " [0.54488318]\n",
      " [0.5488135 ]\n",
      " [0.56804456]\n",
      " [0.60276338]\n",
      " [0.63992102]\n",
      " [0.64589411]\n",
      " [0.71518937]\n",
      " [0.77815675]\n",
      " [0.78052918]\n",
      " [0.79172504]\n",
      " [0.79915856]\n",
      " [0.83261985]\n",
      " [0.87001215]\n",
      " [0.891773  ]\n",
      " [0.92559664]\n",
      " [0.94466892]\n",
      " [0.96366276]\n",
      " [0.97861834]]\n",
      "[0.0202184  0.07103606 0.0871293  0.11827443 0.14335329 0.38344152\n",
      " 0.41466194 0.4236548  0.43758721 0.46147936 0.52184832 0.52889492\n",
      " 0.54488318 0.5488135  0.56804456 0.60276338 0.63992102 0.64589411\n",
      " 0.71518937 0.77815675 0.78052918 0.79172504 0.79915856 0.83261985\n",
      " 0.87001215 0.891773   0.92559664 0.94466892 0.96366276 0.97861834]\n",
      "[ 1.0819082   0.87027612  1.14386208  0.70322051  0.78494746 -0.25265944\n",
      " -0.22066063 -0.26595867 -0.4562644  -0.53001927 -0.86481449 -0.99462675\n",
      " -0.87458603 -0.83407054 -0.77090649 -0.83476183 -1.03080067 -1.02544303\n",
      " -1.0788268  -1.00713288 -1.03009698 -0.63623922 -0.86230652 -0.75328767\n",
      " -0.70023795 -0.41043495 -0.50486767 -0.27907117 -0.25994628 -0.06189804]\n"
     ]
    }
   ],
   "source": [
    "print(X[:, np.newaxis])\n",
    "print(X)\n",
    "print(y)"
   ],
   "metadata": {
    "collapsed": false,
    "ExecuteTime": {
     "end_time": "2024-02-13T19:58:05.674553100Z",
     "start_time": "2024-02-13T19:58:05.563923400Z"
    }
   },
   "id": "6a9cf61f7b5bb2e7",
   "execution_count": 88
  },
  {
   "cell_type": "code",
   "execution_count": 89,
   "id": "1cc01ee5",
   "metadata": {
    "ExecuteTime": {
     "end_time": "2024-02-13T19:58:05.964471400Z",
     "start_time": "2024-02-13T19:58:05.664670700Z"
    }
   },
   "outputs": [
    {
     "data": {
      "text/plain": "<Figure size 1400x500 with 3 Axes>",
      "image/png": "[encoded data removed]"
     },
     "metadata": {},
     "output_type": "display_data"
    }
   ],
   "source": [
    "\n",
    "plt.figure(figsize=(14, 5))\n",
    "for i in range(len(degrees)):\n",
    "    ax = plt.subplot(1, len(degrees), i + 1)\n",
    "    plt.setp(ax, xticks=(), yticks=())\n",
    "\n",
    "    polynomial_features = PolynomialFeatures(degree=degrees[i])\n",
    "    linear_regression = LinearRegression()\n",
    "\n",
    "    # write 2 lines of code to create a pipeline that contains\n",
    "    #   polynomial_features and linear_regression;\n",
    "    #   also fit the created pipeline on the X dataset\n",
    "    pipeline = Pipeline([('polynomial_features', polynomial_features), ('linear_regression', linear_regression)])\n",
    "    pipeline.fit(X[:, np.newaxis], y)\n",
    "\n",
    "    # Evaluate the models using crossvalidation\n",
    "    # write one line bewlow to calculate the cross validation score\n",
    "    scores = cross_val_score(pipeline, X[:, np.newaxis], y,\n",
    "                             scoring=\"neg_mean_squared_error\", cv=10)\n",
    "    \n",
    "    X_test = np.linspace(0, 1, 100)\n",
    "    plt.plot(X_test, pipeline.predict(X_test[:, np.newaxis]), label=\"Model\")\n",
    "    plt.plot(X_test, true_fun(X_test), label=\"True function\")\n",
    "    plt.scatter(X, y, edgecolor='b', s=20, label=\"Samples\")\n",
    "    plt.xlabel(\"x\")\n",
    "    plt.ylabel(\"y\")\n",
    "    plt.xlim((0, 1))\n",
    "    plt.ylim((-2, 2))\n",
    "    plt.legend(loc=\"best\")\n",
    "    plt.title(\"Degree {}\\nMSE = {:.2e}(+/- {:.2e})\".format(\n",
    "        degrees[i], -scores.mean(), scores.std()))\n",
    "plt.show()"
   ]
  },
  {
   "cell_type": "markdown",
   "id": "b808d525",
   "metadata": {},
   "source": [
    "## Multiple linear regression\n",
    "\n",
    "When should we use multiple linear regression?"
   ]
  },
  {
   "cell_type": "code",
   "execution_count": 96,
   "id": "f60e942c",
   "metadata": {
    "ExecuteTime": {
     "end_time": "2024-02-13T19:58:31.845893300Z",
     "start_time": "2024-02-13T19:58:31.826964300Z"
    }
   },
   "outputs": [],
   "source": [
    "import numpy as np\n",
    "import pandas as pd\n",
    "import matplotlib.pyplot as plt\n",
    "import seaborn as sns\n",
    "from matplotlib.pyplot import figure\n",
    "\n",
    "import math"
   ]
  },
  {
   "cell_type": "markdown",
   "id": "fe7c932f",
   "metadata": {},
   "source": [
    "#### Dataset\n",
    "\n",
    "As dataset, we will use the following dataset:\n",
    "https://www.kaggle.com/mohansacharya/graduate-admissions\n",
    "\n",
    "We have already downloaded the CSV of the dataset (Admission_Predict.csv) and we just load it through pandas:"
   ]
  },
  {
   "cell_type": "code",
   "execution_count": 91,
   "id": "8a7a2876",
   "metadata": {
    "ExecuteTime": {
     "end_time": "2024-02-13T19:58:05.971959500Z",
     "start_time": "2024-02-13T19:58:05.952239Z"
    }
   },
   "outputs": [],
   "source": [
    "df = pd.read_csv('res/Admission_Predict.csv')"
   ]
  },
  {
   "cell_type": "markdown",
   "id": "3b0f78e8",
   "metadata": {},
   "source": [
    "Let's get familiar with the dataet."
   ]
  },
  {
   "cell_type": "code",
   "execution_count": 92,
   "id": "a431229b",
   "metadata": {
    "ExecuteTime": {
     "end_time": "2024-02-13T19:58:06.064884Z",
     "start_time": "2024-02-13T19:58:05.963367100Z"
    }
   },
   "outputs": [
    {
     "data": {
      "text/plain": "   Serial No.  GRE Score  TOEFL Score  University Rating  SOP  LOR   CGPA  \\\n0           1        337          118                  4  4.5   4.5  9.65   \n1           2        324          107                  4  4.0   4.5  8.87   \n2           3        316          104                  3  3.0   3.5  8.00   \n3           4        322          110                  3  3.5   2.5  8.67   \n4           5        314          103                  2  2.0   3.0  8.21   \n\n   Research  Chance of Admit   \n0         1              0.92  \n1         1              0.76  \n2         1              0.72  \n3         1              0.80  \n4         0              0.65  ",
      "text/html": "<div>\n<style scoped>\n    .dataframe tbody tr th:only-of-type {\n        vertical-align: middle;\n    }\n\n    .dataframe tbody tr th {\n        vertical-align: top;\n    }\n\n    .dataframe thead th {\n        text-align: right;\n    }\n</style>\n<table border=\"1\" class=\"dataframe\">\n  <thead>\n    <tr style=\"text-align: right;\">\n      <th></th>\n      <th>Serial No.</th>\n      <th>GRE Score</th>\n      <th>TOEFL Score</th>\n      <th>University Rating</th>\n      <th>SOP</th>\n      <th>LOR</th>\n      <th>CGPA</th>\n      <th>Research</th>\n      <th>Chance of Admit</th>\n    </tr>\n  </thead>\n  <tbody>\n    <tr>\n      <th>0</th>\n      <td>1</td>\n      <td>337</td>\n      <td>118</td>\n      <td>4</td>\n      <td>4.5</td>\n      <td>4.5</td>\n      <td>9.65</td>\n      <td>1</td>\n      <td>0.92</td>\n    </tr>\n    <tr>\n      <th>1</th>\n      <td>2</td>\n      <td>324</td>\n      <td>107</td>\n      <td>4</td>\n      <td>4.0</td>\n      <td>4.5</td>\n      <td>8.87</td>\n      <td>1</td>\n      <td>0.76</td>\n    </tr>\n    <tr>\n      <th>2</th>\n      <td>3</td>\n      <td>316</td>\n      <td>104</td>\n      <td>3</td>\n      <td>3.0</td>\n      <td>3.5</td>\n      <td>8.00</td>\n      <td>1</td>\n      <td>0.72</td>\n    </tr>\n    <tr>\n      <th>3</th>\n      <td>4</td>\n      <td>322</td>\n      <td>110</td>\n      <td>3</td>\n      <td>3.5</td>\n      <td>2.5</td>\n      <td>8.67</td>\n      <td>1</td>\n      <td>0.80</td>\n    </tr>\n    <tr>\n      <th>4</th>\n      <td>5</td>\n      <td>314</td>\n      <td>103</td>\n      <td>2</td>\n      <td>2.0</td>\n      <td>3.0</td>\n      <td>8.21</td>\n      <td>0</td>\n      <td>0.65</td>\n    </tr>\n  </tbody>\n</table>\n</div>"
     },
     "execution_count": 92,
     "metadata": {},
     "output_type": "execute_result"
    }
   ],
   "source": [
    "df.head()"
   ]
  },
  {
   "cell_type": "markdown",
   "id": "eca36cb9",
   "metadata": {},
   "source": [
    "Now let's understand the format of the dataset, i.e. datatypes etc."
   ]
  },
  {
   "cell_type": "code",
   "execution_count": 93,
   "id": "d42c0f2b",
   "metadata": {
    "ExecuteTime": {
     "end_time": "2024-02-13T19:58:06.066486300Z",
     "start_time": "2024-02-13T19:58:05.974485400Z"
    }
   },
   "outputs": [
    {
     "name": "stdout",
     "output_type": "stream",
     "text": [
      "<class 'pandas.core.frame.DataFrame'>\n",
      "RangeIndex: 400 entries, 0 to 399\n",
      "Data columns (total 9 columns):\n",
      " #   Column             Non-Null Count  Dtype  \n",
      "---  ------             --------------  -----  \n",
      " 0   Serial No.         400 non-null    int64  \n",
      " 1   GRE Score          400 non-null    int64  \n",
      " 2   TOEFL Score        400 non-null    int64  \n",
      " 3   University Rating  400 non-null    int64  \n",
      " 4   SOP                400 non-null    float64\n",
      " 5   LOR                400 non-null    float64\n",
      " 6   CGPA               400 non-null    float64\n",
      " 7   Research           400 non-null    int64  \n",
      " 8   Chance of Admit    400 non-null    float64\n",
      "dtypes: float64(4), int64(5)\n",
      "memory usage: 28.3 KB\n"
     ]
    }
   ],
   "source": [
    "df.info()"
   ]
  },
  {
   "cell_type": "markdown",
   "id": "d8c0cd35",
   "metadata": {},
   "source": [
    "For more convenience working with dataset, let's convert it from pandas dataframe into numpy array. Also, we should select float as a dataformat of all the columns.\n",
    "\n",
    "\n",
    "\n",
    "Let's extract feature variable (X) and label variable (Y) from the dataset:"
   ]
  },
  {
   "cell_type": "code",
   "execution_count": 119,
   "id": "52cadaca",
   "metadata": {
    "ExecuteTime": {
     "end_time": "2024-02-13T20:04:54.080302Z",
     "start_time": "2024-02-13T20:04:54.059280100Z"
    }
   },
   "outputs": [],
   "source": [
    "cols = [0,8]\n",
    "X = df.drop(df.columns[cols],axis=1)"
   ]
  },
  {
   "cell_type": "markdown",
   "id": "96a9409c",
   "metadata": {},
   "source": [
    "Let's explore the dataset with Seaborn.\n",
    "\n",
    "First, let's see how the range of the columns' values differ from each other"
   ]
  },
  {
   "cell_type": "code",
   "execution_count": 97,
   "id": "9f0b4dbb",
   "metadata": {
    "ExecuteTime": {
     "end_time": "2024-02-13T19:58:43.899512Z",
     "start_time": "2024-02-13T19:58:43.620358700Z"
    }
   },
   "outputs": [
    {
     "data": {
      "text/plain": "<Axes: >"
     },
     "execution_count": 97,
     "metadata": {},
     "output_type": "execute_result"
    },
    {
     "data": {
      "text/plain": "<Figure size 900x600 with 1 Axes>",
      "image/png": "[encoded data removed]"
     },
     "metadata": {},
     "output_type": "display_data"
    }
   ],
   "source": [
    "# New boxplot using stats_df\n",
    "plt.figure(figsize=(9,6)) # Set plot dimensions\n",
    "sns.boxplot(data=X)"
   ]
  },
  {
   "cell_type": "markdown",
   "id": "c012b6ac",
   "metadata": {},
   "source": [
    "As you we can see, the GRE Score column and TOEFL column have high values compared to other columns. This can have a negative influence on our model, since the large values will impact on the training process more.\n",
    "\n",
    "That's why we need to apply normalization."
   ]
  },
  {
   "cell_type": "code",
   "execution_count": 124,
   "id": "15f49dcb",
   "metadata": {
    "ExecuteTime": {
     "end_time": "2024-02-13T20:07:08.211668200Z",
     "start_time": "2024-02-13T20:07:08.177985100Z"
    }
   },
   "outputs": [
    {
     "name": "stdout",
     "output_type": "stream",
     "text": [
      "   GRE Score  TOEFL Score  University Rating    SOP    LOR      CGPA  Research\n",
      "0       0.94     0.928571               0.75  0.875  0.875  0.913462       1.0\n",
      "1       0.68     0.535714               0.75  0.750  0.875  0.663462       1.0\n",
      "2       0.52     0.428571               0.50  0.500  0.625  0.384615       1.0\n",
      "3       0.64     0.642857               0.50  0.625  0.375  0.599359       1.0\n",
      "4       0.48     0.392857               0.25  0.250  0.500  0.451923       0.0\n"
     ]
    }
   ],
   "source": [
    "from sklearn.preprocessing import MinMaxScaler\n",
    "scaler = MinMaxScaler()\n",
    "\n",
    "columns_ = ['GRE Score','TOEFL Score', 'University Rating','SOP','LOR','CGPA','Research']\n",
    "\n",
    "# todo: apply min-max scaler to the df dataset, write one line code below\n",
    "X = scaler.fit_transform(X)\n",
    "\n",
    "X = pd.DataFrame(X, columns=columns_)\n",
    "print(X.head())"
   ]
  },
  {
   "cell_type": "code",
   "execution_count": 125,
   "id": "674f6961",
   "metadata": {
    "ExecuteTime": {
     "end_time": "2024-02-13T20:07:09.741442700Z",
     "start_time": "2024-02-13T20:07:09.706800800Z"
    }
   },
   "outputs": [
    {
     "data": {
      "text/plain": "   Chance of Admit \n0              0.92\n1              0.76\n2              0.72\n3              0.80\n4              0.65",
      "text/html": "<div>\n<style scoped>\n    .dataframe tbody tr th:only-of-type {\n        vertical-align: middle;\n    }\n\n    .dataframe tbody tr th {\n        vertical-align: top;\n    }\n\n    .dataframe thead th {\n        text-align: right;\n    }\n</style>\n<table border=\"1\" class=\"dataframe\">\n  <thead>\n    <tr style=\"text-align: right;\">\n      <th></th>\n      <th>Chance of Admit</th>\n    </tr>\n  </thead>\n  <tbody>\n    <tr>\n      <th>0</th>\n      <td>0.92</td>\n    </tr>\n    <tr>\n      <th>1</th>\n      <td>0.76</td>\n    </tr>\n    <tr>\n      <th>2</th>\n      <td>0.72</td>\n    </tr>\n    <tr>\n      <th>3</th>\n      <td>0.80</td>\n    </tr>\n    <tr>\n      <th>4</th>\n      <td>0.65</td>\n    </tr>\n  </tbody>\n</table>\n</div>"
     },
     "execution_count": 125,
     "metadata": {},
     "output_type": "execute_result"
    }
   ],
   "source": [
    "Y = df.iloc[:, [8]]\n",
    "Y.head()"
   ]
  },
  {
   "cell_type": "markdown",
   "id": "308a86df",
   "metadata": {},
   "source": [
    "Split X and Y into training and test sets"
   ]
  },
  {
   "cell_type": "code",
   "outputs": [],
   "source": [
    "from sklearn.model_selection import train_test_split\n",
    "\n",
    "X_train, X_test, y_train, y_test = train_test_split(X, Y, test_size=0.2, random_state=200)"
   ],
   "metadata": {
    "collapsed": false,
    "ExecuteTime": {
     "end_time": "2024-02-13T20:09:23.129945100Z",
     "start_time": "2024-02-13T20:09:23.099178100Z"
    }
   },
   "id": "5ed0b0054b745c3",
   "execution_count": 138
  },
  {
   "cell_type": "code",
   "execution_count": 129,
   "id": "dd6369d4",
   "metadata": {
    "ExecuteTime": {
     "end_time": "2024-02-13T20:07:27.616593600Z",
     "start_time": "2024-02-13T20:07:27.589610200Z"
    }
   },
   "outputs": [
    {
     "data": {
      "text/plain": "     GRE Score  TOEFL Score  University Rating    SOP  LOR      CGPA  Research\n120       0.90     0.892857               1.00  1.000  1.0  0.884615       1.0\n62        0.28     0.464286               0.25  0.500  0.5  0.448718       1.0\n4         0.48     0.392857               0.25  0.250  0.5  0.451923       0.0\n203       0.88     1.000000               1.00  0.750  1.0  0.983974       1.0\n290       0.34     0.464286               0.25  0.375  0.5  0.272436       0.0",
      "text/html": "<div>\n<style scoped>\n    .dataframe tbody tr th:only-of-type {\n        vertical-align: middle;\n    }\n\n    .dataframe tbody tr th {\n        vertical-align: top;\n    }\n\n    .dataframe thead th {\n        text-align: right;\n    }\n</style>\n<table border=\"1\" class=\"dataframe\">\n  <thead>\n    <tr style=\"text-align: right;\">\n      <th></th>\n      <th>GRE Score</th>\n      <th>TOEFL Score</th>\n      <th>University Rating</th>\n      <th>SOP</th>\n      <th>LOR</th>\n      <th>CGPA</th>\n      <th>Research</th>\n    </tr>\n  </thead>\n  <tbody>\n    <tr>\n      <th>120</th>\n      <td>0.90</td>\n      <td>0.892857</td>\n      <td>1.00</td>\n      <td>1.000</td>\n      <td>1.0</td>\n      <td>0.884615</td>\n      <td>1.0</td>\n    </tr>\n    <tr>\n      <th>62</th>\n      <td>0.28</td>\n      <td>0.464286</td>\n      <td>0.25</td>\n      <td>0.500</td>\n      <td>0.5</td>\n      <td>0.448718</td>\n      <td>1.0</td>\n    </tr>\n    <tr>\n      <th>4</th>\n      <td>0.48</td>\n      <td>0.392857</td>\n      <td>0.25</td>\n      <td>0.250</td>\n      <td>0.5</td>\n      <td>0.451923</td>\n      <td>0.0</td>\n    </tr>\n    <tr>\n      <th>203</th>\n      <td>0.88</td>\n      <td>1.000000</td>\n      <td>1.00</td>\n      <td>0.750</td>\n      <td>1.0</td>\n      <td>0.983974</td>\n      <td>1.0</td>\n    </tr>\n    <tr>\n      <th>290</th>\n      <td>0.34</td>\n      <td>0.464286</td>\n      <td>0.25</td>\n      <td>0.375</td>\n      <td>0.5</td>\n      <td>0.272436</td>\n      <td>0.0</td>\n    </tr>\n  </tbody>\n</table>\n</div>"
     },
     "execution_count": 129,
     "metadata": {},
     "output_type": "execute_result"
    }
   ],
   "source": [
    "X_train.head()"
   ]
  },
  {
   "cell_type": "code",
   "execution_count": 130,
   "id": "b8db8d50",
   "metadata": {
    "ExecuteTime": {
     "end_time": "2024-02-13T20:07:32.032546100Z",
     "start_time": "2024-02-13T20:07:31.978374700Z"
    }
   },
   "outputs": [
    {
     "data": {
      "text/plain": "(320, 7)"
     },
     "execution_count": 130,
     "metadata": {},
     "output_type": "execute_result"
    }
   ],
   "source": [
    "X_train.shape"
   ]
  },
  {
   "cell_type": "markdown",
   "id": "1239e16c",
   "metadata": {},
   "source": [
    "Now, let's instantinate the linear regression model and start the training process:"
   ]
  },
  {
   "cell_type": "code",
   "execution_count": 139,
   "id": "a65a74a2",
   "metadata": {
    "ExecuteTime": {
     "end_time": "2024-02-13T20:09:35.707241400Z",
     "start_time": "2024-02-13T20:09:35.641409100Z"
    }
   },
   "outputs": [
    {
     "data": {
      "text/plain": "LinearRegression()",
      "text/html": "<style>#sk-container-id-2 {\n  /* Definition of color scheme common for light and dark mode */\n  --sklearn-color-text: black;\n  --sklearn-color-line: gray;\n  /* Definition of color scheme for unfitted estimators */\n  --sklearn-color-unfitted-level-0: #fff5e6;\n  --sklearn-color-unfitted-level-1: #f6e4d2;\n  --sklearn-color-unfitted-level-2: #ffe0b3;\n  --sklearn-color-unfitted-level-3: chocolate;\n  /* Definition of color scheme for fitted estimators */\n  --sklearn-color-fitted-level-0: #f0f8ff;\n  --sklearn-color-fitted-level-1: #d4ebff;\n  --sklearn-color-fitted-level-2: #b3dbfd;\n  --sklearn-color-fitted-level-3: cornflowerblue;\n\n  /* Specific color for light theme */\n  --sklearn-color-text-on-default-background: var(--sg-text-color, var(--theme-code-foreground, var(--jp-content-font-color1, black)));\n  --sklearn-color-background: var(--sg-background-color, var(--theme-background, var(--jp-layout-color0, white)));\n  --sklearn-color-border-box: var(--sg-text-color, var(--theme-code-foreground, var(--jp-content-font-color1, black)));\n  --sklearn-color-icon: #696969;\n\n  @media (prefers-color-scheme: dark) {\n    /* Redefinition of color scheme for dark theme */\n    --sklearn-color-text-on-default-background: var(--sg-text-color, var(--theme-code-foreground, var(--jp-content-font-color1, white)));\n    --sklearn-color-background: var(--sg-background-color, var(--theme-background, var(--jp-layout-color0, #111)));\n    --sklearn-color-border-box: var(--sg-text-color, var(--theme-code-foreground, var(--jp-content-font-color1, white)));\n    --sklearn-color-icon: #878787;\n  }\n}\n\n#sk-container-id-2 {\n  color: var(--sklearn-color-text);\n}\n\n#sk-container-id-2 pre {\n  padding: 0;\n}\n\n#sk-container-id-2 input.sk-hidden--visually {\n  border: 0;\n  clip: rect(1px 1px 1px 1px);\n  clip: rect(1px, 1px, 1px, 1px);\n  height: 1px;\n  margin: -1px;\n  overflow: hidden;\n  padding: 0;\n  position: absolute;\n  width: 1px;\n}\n\n#sk-container-id-2 div.sk-dashed-wrapped {\n  border: 1px dashed var(--sklearn-color-line);\n  margin: 0 0.4em 0.5em 0.4em;\n  box-sizing: border-box;\n  padding-bottom: 0.4em;\n  background-color: var(--sklearn-color-background);\n}\n\n#sk-container-id-2 div.sk-container {\n  /* jupyter's `normalize.less` sets `[hidden] { display: none; }`\n     but bootstrap.min.css set `[hidden] { display: none !important; }`\n     so we also need the `!important` here to be able to override the\n     default hidden behavior on the sphinx rendered scikit-learn.org.\n     See: https://github.com/scikit-learn/scikit-learn/issues/21755 */\n  display: inline-block !important;\n  position: relative;\n}\n\n#sk-container-id-2 div.sk-text-repr-fallback {\n  display: none;\n}\n\ndiv.sk-parallel-item,\ndiv.sk-serial,\ndiv.sk-item {\n  /* draw centered vertical line to link estimators */\n  background-image: linear-gradient(var(--sklearn-color-text-on-default-background), var(--sklearn-color-text-on-default-background));\n  background-size: 2px 100%;\n  background-repeat: no-repeat;\n  background-position: center center;\n}\n\n/* Parallel-specific style estimator block */\n\n#sk-container-id-2 div.sk-parallel-item::after {\n  content: \"\";\n  width: 100%;\n  border-bottom: 2px solid var(--sklearn-color-text-on-default-background);\n  flex-grow: 1;\n}\n\n#sk-container-id-2 div.sk-parallel {\n  display: flex;\n  align-items: stretch;\n  justify-content: center;\n  background-color: var(--sklearn-color-background);\n  position: relative;\n}\n\n#sk-container-id-2 div.sk-parallel-item {\n  display: flex;\n  flex-direction: column;\n}\n\n#sk-container-id-2 div.sk-parallel-item:first-child::after {\n  align-self: flex-end;\n  width: 50%;\n}\n\n#sk-container-id-2 div.sk-parallel-item:last-child::after {\n  align-self: flex-start;\n  width: 50%;\n}\n\n#sk-container-id-2 div.sk-parallel-item:only-child::after {\n  width: 0;\n}\n\n/* Serial-specific style estimator block */\n\n#sk-container-id-2 div.sk-serial {\n  display: flex;\n  flex-direction: column;\n  align-items: center;\n  background-color: var(--sklearn-color-background);\n  padding-right: 1em;\n  padding-left: 1em;\n}\n\n\n/* Toggleable style: style used for estimator/Pipeline/ColumnTransformer box that is\nclickable and can be expanded/collapsed.\n- Pipeline and ColumnTransformer use this feature and define the default style\n- Estimators will overwrite some part of the style using the `sk-estimator` class\n*/\n\n/* Pipeline and ColumnTransformer style (default) */\n\n#sk-container-id-2 div.sk-toggleable {\n  /* Default theme specific background. It is overwritten whether we have a\n  specific estimator or a Pipeline/ColumnTransformer */\n  background-color: var(--sklearn-color-background);\n}\n\n/* Toggleable label */\n#sk-container-id-2 label.sk-toggleable__label {\n  cursor: pointer;\n  display: block;\n  width: 100%;\n  margin-bottom: 0;\n  padding: 0.5em;\n  box-sizing: border-box;\n  text-align: center;\n}\n\n#sk-container-id-2 label.sk-toggleable__label-arrow:before {\n  /* Arrow on the left of the label */\n  content: \"▸\";\n  float: left;\n  margin-right: 0.25em;\n  color: var(--sklearn-color-icon);\n}\n\n#sk-container-id-2 label.sk-toggleable__label-arrow:hover:before {\n  color: var(--sklearn-color-text);\n}\n\n/* Toggleable content - dropdown */\n\n#sk-container-id-2 div.sk-toggleable__content {\n  max-height: 0;\n  max-width: 0;\n  overflow: hidden;\n  text-align: left;\n  /* unfitted */\n  background-color: var(--sklearn-color-unfitted-level-0);\n}\n\n#sk-container-id-2 div.sk-toggleable__content.fitted {\n  /* fitted */\n  background-color: var(--sklearn-color-fitted-level-0);\n}\n\n#sk-container-id-2 div.sk-toggleable__content pre {\n  margin: 0.2em;\n  border-radius: 0.25em;\n  color: var(--sklearn-color-text);\n  /* unfitted */\n  background-color: var(--sklearn-color-unfitted-level-0);\n}\n\n#sk-container-id-2 div.sk-toggleable__content.fitted pre {\n  /* unfitted */\n  background-color: var(--sklearn-color-fitted-level-0);\n}\n\n#sk-container-id-2 input.sk-toggleable__control:checked~div.sk-toggleable__content {\n  /* Expand drop-down */\n  max-height: 200px;\n  max-width: 100%;\n  overflow: auto;\n}\n\n#sk-container-id-2 input.sk-toggleable__control:checked~label.sk-toggleable__label-arrow:before {\n  content: \"▾\";\n}\n\n/* Pipeline/ColumnTransformer-specific style */\n\n#sk-container-id-2 div.sk-label input.sk-toggleable__control:checked~label.sk-toggleable__label {\n  color: var(--sklearn-color-text);\n  background-color: var(--sklearn-color-unfitted-level-2);\n}\n\n#sk-container-id-2 div.sk-label.fitted input.sk-toggleable__control:checked~label.sk-toggleable__label {\n  background-color: var(--sklearn-color-fitted-level-2);\n}\n\n/* Estimator-specific style */\n\n/* Colorize estimator box */\n#sk-container-id-2 div.sk-estimator input.sk-toggleable__control:checked~label.sk-toggleable__label {\n  /* unfitted */\n  background-color: var(--sklearn-color-unfitted-level-2);\n}\n\n#sk-container-id-2 div.sk-estimator.fitted input.sk-toggleable__control:checked~label.sk-toggleable__label {\n  /* fitted */\n  background-color: var(--sklearn-color-fitted-level-2);\n}\n\n#sk-container-id-2 div.sk-label label.sk-toggleable__label,\n#sk-container-id-2 div.sk-label label {\n  /* The background is the default theme color */\n  color: var(--sklearn-color-text-on-default-background);\n}\n\n/* On hover, darken the color of the background */\n#sk-container-id-2 div.sk-label:hover label.sk-toggleable__label {\n  color: var(--sklearn-color-text);\n  background-color: var(--sklearn-color-unfitted-level-2);\n}\n\n/* Label box, darken color on hover, fitted */\n#sk-container-id-2 div.sk-label.fitted:hover label.sk-toggleable__label.fitted {\n  color: var(--sklearn-color-text);\n  background-color: var(--sklearn-color-fitted-level-2);\n}\n\n/* Estimator label */\n\n#sk-container-id-2 div.sk-label label {\n  font-family: monospace;\n  font-weight: bold;\n  display: inline-block;\n  line-height: 1.2em;\n}\n\n#sk-container-id-2 div.sk-label-container {\n  text-align: center;\n}\n\n/* Estimator-specific */\n#sk-container-id-2 div.sk-estimator {\n  font-family: monospace;\n  border: 1px dotted var(--sklearn-color-border-box);\n  border-radius: 0.25em;\n  box-sizing: border-box;\n  margin-bottom: 0.5em;\n  /* unfitted */\n  background-color: var(--sklearn-color-unfitted-level-0);\n}\n\n#sk-container-id-2 div.sk-estimator.fitted {\n  /* fitted */\n  background-color: var(--sklearn-color-fitted-level-0);\n}\n\n/* on hover */\n#sk-container-id-2 div.sk-estimator:hover {\n  /* unfitted */\n  background-color: var(--sklearn-color-unfitted-level-2);\n}\n\n#sk-container-id-2 div.sk-estimator.fitted:hover {\n  /* fitted */\n  background-color: var(--sklearn-color-fitted-level-2);\n}\n\n/* Specification for estimator info (e.g. \"i\" and \"?\") */\n\n/* Common style for \"i\" and \"?\" */\n\n.sk-estimator-doc-link,\na:link.sk-estimator-doc-link,\na:visited.sk-estimator-doc-link {\n  float: right;\n  font-size: smaller;\n  line-height: 1em;\n  font-family: monospace;\n  background-color: var(--sklearn-color-background);\n  border-radius: 1em;\n  height: 1em;\n  width: 1em;\n  text-decoration: none !important;\n  margin-left: 1ex;\n  /* unfitted */\n  border: var(--sklearn-color-unfitted-level-1) 1pt solid;\n  color: var(--sklearn-color-unfitted-level-1);\n}\n\n.sk-estimator-doc-link.fitted,\na:link.sk-estimator-doc-link.fitted,\na:visited.sk-estimator-doc-link.fitted {\n  /* fitted */\n  border: var(--sklearn-color-fitted-level-1) 1pt solid;\n  color: var(--sklearn-color-fitted-level-1);\n}\n\n/* On hover */\ndiv.sk-estimator:hover .sk-estimator-doc-link:hover,\n.sk-estimator-doc-link:hover,\ndiv.sk-label-container:hover .sk-estimator-doc-link:hover,\n.sk-estimator-doc-link:hover {\n  /* unfitted */\n  background-color: var(--sklearn-color-unfitted-level-3);\n  color: var(--sklearn-color-background);\n  text-decoration: none;\n}\n\ndiv.sk-estimator.fitted:hover .sk-estimator-doc-link.fitted:hover,\n.sk-estimator-doc-link.fitted:hover,\ndiv.sk-label-container:hover .sk-estimator-doc-link.fitted:hover,\n.sk-estimator-doc-link.fitted:hover {\n  /* fitted */\n  background-color: var(--sklearn-color-fitted-level-3);\n  color: var(--sklearn-color-background);\n  text-decoration: none;\n}\n\n/* Span, style for the box shown on hovering the info icon */\n.sk-estimator-doc-link span {\n  display: none;\n  z-index: 9999;\n  position: relative;\n  font-weight: normal;\n  right: .2ex;\n  padding: .5ex;\n  margin: .5ex;\n  width: min-content;\n  min-width: 20ex;\n  max-width: 50ex;\n  color: var(--sklearn-color-text);\n  box-shadow: 2pt 2pt 4pt #999;\n  /* unfitted */\n  background: var(--sklearn-color-unfitted-level-0);\n  border: .5pt solid var(--sklearn-color-unfitted-level-3);\n}\n\n.sk-estimator-doc-link.fitted span {\n  /* fitted */\n  background: var(--sklearn-color-fitted-level-0);\n  border: var(--sklearn-color-fitted-level-3);\n}\n\n.sk-estimator-doc-link:hover span {\n  display: block;\n}\n\n/* \"?\"-specific style due to the `<a>` HTML tag */\n\n#sk-container-id-2 a.estimator_doc_link {\n  float: right;\n  font-size: 1rem;\n  line-height: 1em;\n  font-family: monospace;\n  background-color: var(--sklearn-color-background);\n  border-radius: 1rem;\n  height: 1rem;\n  width: 1rem;\n  text-decoration: none;\n  /* unfitted */\n  color: var(--sklearn-color-unfitted-level-1);\n  border: var(--sklearn-color-unfitted-level-1) 1pt solid;\n}\n\n#sk-container-id-2 a.estimator_doc_link.fitted {\n  /* fitted */\n  border: var(--sklearn-color-fitted-level-1) 1pt solid;\n  color: var(--sklearn-color-fitted-level-1);\n}\n\n/* On hover */\n#sk-container-id-2 a.estimator_doc_link:hover {\n  /* unfitted */\n  background-color: var(--sklearn-color-unfitted-level-3);\n  color: var(--sklearn-color-background);\n  text-decoration: none;\n}\n\n#sk-container-id-2 a.estimator_doc_link.fitted:hover {\n  /* fitted */\n  background-color: var(--sklearn-color-fitted-level-3);\n}\n</style><div id=\"sk-container-id-2\" class=\"sk-top-container\"><div class=\"sk-text-repr-fallback\"><pre>LinearRegression()</pre><b>In a Jupyter environment, please rerun this cell to show the HTML representation or trust the notebook. <br />On GitHub, the HTML representation is unable to render, please try loading this page with nbviewer.org.</b></div><div class=\"sk-container\" hidden><div class=\"sk-item\"><div class=\"sk-estimator fitted sk-toggleable\"><input class=\"sk-toggleable__control sk-hidden--visually\" id=\"sk-estimator-id-2\" type=\"checkbox\" checked><label for=\"sk-estimator-id-2\" class=\"sk-toggleable__label fitted sk-toggleable__label-arrow fitted\">&nbsp;&nbsp;LinearRegression<a class=\"sk-estimator-doc-link fitted\" rel=\"noreferrer\" target=\"_blank\" href=\"https://scikit-learn.org/1.4/modules/generated/sklearn.linear_model.LinearRegression.html\">?<span>Documentation for LinearRegression</span></a><span class=\"sk-estimator-doc-link fitted\">i<span>Fitted</span></span></label><div class=\"sk-toggleable__content fitted\"><pre>LinearRegression()</pre></div> </div></div></div></div>"
     },
     "execution_count": 139,
     "metadata": {},
     "output_type": "execute_result"
    }
   ],
   "source": [
    "from sklearn.linear_model import LinearRegression\n",
    "\n",
    "model = LinearRegression()\n",
    "\n",
    "# write one line code to train the model on the train set\n",
    "model.fit(X_train, y_train)"
   ]
  },
  {
   "cell_type": "code",
   "execution_count": 140,
   "id": "4484af9e",
   "metadata": {
    "ExecuteTime": {
     "end_time": "2024-02-13T20:09:45.036140100Z",
     "start_time": "2024-02-13T20:09:44.999217Z"
    }
   },
   "outputs": [
    {
     "name": "stdout",
     "output_type": "stream",
     "text": [
      "[0.33876194]\n",
      "[[0.07600116 0.07322892 0.0119116  0.02038704 0.08054623 0.38634532\n",
      "  0.02381432]]\n"
     ]
    }
   ],
   "source": [
    "intercept = model.intercept_\n",
    "print(intercept)\n",
    "coefficients = model.coef_\n",
    "print(coefficients)"
   ]
  },
  {
   "cell_type": "markdown",
   "id": "327586ca",
   "metadata": {},
   "source": [
    "Now let's predict the test dataset:"
   ]
  },
  {
   "cell_type": "code",
   "execution_count": 144,
   "id": "e0455f3d",
   "metadata": {
    "ExecuteTime": {
     "end_time": "2024-02-13T20:12:23.189089300Z",
     "start_time": "2024-02-13T20:12:23.135439700Z"
    }
   },
   "outputs": [
    {
     "data": {
      "text/plain": "     Chance of Admit \n124              0.57\n383              0.62\n295              0.68\n204              0.69\n380              0.78\n..                ...\n369              0.67\n68               0.68\n347              0.42\n339              0.81\n311              0.84\n\n[80 rows x 1 columns]",
      "text/html": "<div>\n<style scoped>\n    .dataframe tbody tr th:only-of-type {\n        vertical-align: middle;\n    }\n\n    .dataframe tbody tr th {\n        vertical-align: top;\n    }\n\n    .dataframe thead th {\n        text-align: right;\n    }\n</style>\n<table border=\"1\" class=\"dataframe\">\n  <thead>\n    <tr style=\"text-align: right;\">\n      <th></th>\n      <th>Chance of Admit</th>\n    </tr>\n  </thead>\n  <tbody>\n    <tr>\n      <th>124</th>\n      <td>0.57</td>\n    </tr>\n    <tr>\n      <th>383</th>\n      <td>0.62</td>\n    </tr>\n    <tr>\n      <th>295</th>\n      <td>0.68</td>\n    </tr>\n    <tr>\n      <th>204</th>\n      <td>0.69</td>\n    </tr>\n    <tr>\n      <th>380</th>\n      <td>0.78</td>\n    </tr>\n    <tr>\n      <th>...</th>\n      <td>...</td>\n    </tr>\n    <tr>\n      <th>369</th>\n      <td>0.67</td>\n    </tr>\n    <tr>\n      <th>68</th>\n      <td>0.68</td>\n    </tr>\n    <tr>\n      <th>347</th>\n      <td>0.42</td>\n    </tr>\n    <tr>\n      <th>339</th>\n      <td>0.81</td>\n    </tr>\n    <tr>\n      <th>311</th>\n      <td>0.84</td>\n    </tr>\n  </tbody>\n</table>\n<p>80 rows × 1 columns</p>\n</div>"
     },
     "execution_count": 144,
     "metadata": {},
     "output_type": "execute_result"
    }
   ],
   "source": [
    "# write one line code to predect the test dataset by the model\n",
    "y_pred = model.predict(X_test)"
   ]
  },
  {
   "cell_type": "markdown",
   "id": "00964c95",
   "metadata": {},
   "source": [
    "Now we will create a dataframe to compare the predicted and actual labels (Y_test)"
   ]
  },
  {
   "cell_type": "code",
   "execution_count": 145,
   "id": "c7e57f57",
   "metadata": {
    "ExecuteTime": {
     "end_time": "2024-02-13T20:12:38.200354800Z",
     "start_time": "2024-02-13T20:12:38.134207200Z"
    }
   },
   "outputs": [],
   "source": [
    "Y_pred = np.squeeze(y_pred)\n",
    "\n",
    "Y_test = np.squeeze(y_test)\n",
    "\n",
    "df_ = pd.DataFrame({'Actual': Y_test, 'Predicted': Y_pred})"
   ]
  },
  {
   "cell_type": "code",
   "execution_count": 146,
   "id": "a1e5239d",
   "metadata": {
    "ExecuteTime": {
     "end_time": "2024-02-13T20:12:41.751472100Z",
     "start_time": "2024-02-13T20:12:41.724726400Z"
    }
   },
   "outputs": [
    {
     "data": {
      "text/plain": "     Actual  Predicted\n124    0.57   0.655742\n383    0.62   0.622165\n295    0.68   0.663278\n204    0.69   0.679490\n380    0.78   0.774319",
      "text/html": "<div>\n<style scoped>\n    .dataframe tbody tr th:only-of-type {\n        vertical-align: middle;\n    }\n\n    .dataframe tbody tr th {\n        vertical-align: top;\n    }\n\n    .dataframe thead th {\n        text-align: right;\n    }\n</style>\n<table border=\"1\" class=\"dataframe\">\n  <thead>\n    <tr style=\"text-align: right;\">\n      <th></th>\n      <th>Actual</th>\n      <th>Predicted</th>\n    </tr>\n  </thead>\n  <tbody>\n    <tr>\n      <th>124</th>\n      <td>0.57</td>\n      <td>0.655742</td>\n    </tr>\n    <tr>\n      <th>383</th>\n      <td>0.62</td>\n      <td>0.622165</td>\n    </tr>\n    <tr>\n      <th>295</th>\n      <td>0.68</td>\n      <td>0.663278</td>\n    </tr>\n    <tr>\n      <th>204</th>\n      <td>0.69</td>\n      <td>0.679490</td>\n    </tr>\n    <tr>\n      <th>380</th>\n      <td>0.78</td>\n      <td>0.774319</td>\n    </tr>\n  </tbody>\n</table>\n</div>"
     },
     "execution_count": 146,
     "metadata": {},
     "output_type": "execute_result"
    }
   ],
   "source": [
    "df_.head()"
   ]
  },
  {
   "cell_type": "code",
   "execution_count": 149,
   "id": "d4081002",
   "metadata": {
    "ExecuteTime": {
     "end_time": "2024-02-13T20:14:50.996439100Z",
     "start_time": "2024-02-13T20:14:50.971279400Z"
    }
   },
   "outputs": [
    {
     "name": "stdout",
     "output_type": "stream",
     "text": [
      "Mean Absolute Error: 0.051593556683907194\n",
      "Mean Squared Error: 0.004763968711070514\n",
      "Root Mean Squared Error: 0.06902150904660455\n"
     ]
    }
   ],
   "source": [
    "from sklearn import metrics\n",
    "\n",
    "# write three lines of code to calculate the MAE, MSE and RMSE\n",
    "\n",
    "print('Mean Absolute Error:', metrics.mean_absolute_error(Y_test, Y_pred))\n",
    "print('Mean Squared Error:', metrics.mean_squared_error(Y_test, Y_pred))\n",
    "print('Root Mean Squared Error:', metrics.root_mean_squared_error(Y_test, Y_pred))\n"
   ]
  },
  {
   "cell_type": "markdown",
   "id": "a75f631b",
   "metadata": {
    "collapsed": false,
    "pycharm": {
     "name": "#%% md\n"
    }
   },
   "source": [
    "## References:\n",
    "- https://machinelearningmastery.com/one-hot-encoding-for-categorical-data/\n",
    "- https://towardsdatascience.com/all-about-feature-scaling-bcc0ad75cb35"
   ]
  },
  {
   "cell_type": "code",
   "outputs": [],
   "source": [],
   "metadata": {
    "collapsed": false
   },
   "id": "a0d18a10f51f63c7"
  }
 ],
 "metadata": {
  "kernelspec": {
   "display_name": "Python 3.8.8 ('env': venv)",
   "language": "python",
   "name": "python3"
  },
  "language_info": {
   "codemirror_mode": {
    "name": "ipython",
    "version": 3
   },
   "file_extension": ".py",
   "mimetype": "text/x-python",
   "name": "python",
   "nbconvert_exporter": "python",
   "pygments_lexer": "ipython3",
   "version": "3.8.8"
  },
  "vscode": {
   "interpreter": {
    "hash": "6df0ddd77085922c773681b1c23afa6ec355a7eb5a25c833f534ec75c0111436"
   }
  }
 },
 "nbformat": 4,
 "nbformat_minor": 5
}
